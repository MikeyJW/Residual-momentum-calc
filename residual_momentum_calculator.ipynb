{
 "cells": [
  {
   "cell_type": "code",
   "execution_count": 1,
   "metadata": {},
   "outputs": [],
   "source": [
    "import pandas as pd\n",
    "import numpy as np \n",
    "import itertools\n",
    "import statsmodels.api as sm\n",
    "from statsmodels import regression, stats"
   ]
  },
  {
   "cell_type": "code",
   "execution_count": 2,
   "metadata": {},
   "outputs": [],
   "source": [
    "from quantopian.pipeline import Pipeline\n",
    "from quantopian.pipeline.data import Fundamentals\n",
    "from quantopian.pipeline.factors import Returns, Latest\n",
    "from quantopian.pipeline.filters import QTradableStocksUS\n",
    "from quantopian.research import run_pipeline"
   ]
  },
  {
   "cell_type": "code",
   "execution_count": 3,
   "metadata": {},
   "outputs": [],
   "source": [
    "# Rolling window start/end dates for exposure analysis\n",
    "start_date = '2016-02-01'\n",
    "end_date = '2019-02-01'"
   ]
  },
  {
   "cell_type": "code",
   "execution_count": 4,
   "metadata": {},
   "outputs": [],
   "source": [
    "# Risk-free market daily returns proxy (US treasury bill ETF)\n",
    "risk_free_returns = get_pricing('BIL', fields='price', start_date=start_date,\n",
    "                                end_date=end_date).pct_change()[1:]\n",
    "# Overall market daily returns proxy (S&P 500 ETF)\n",
    "market_returns = get_pricing('SPY', fields='price', start_date=start_date,\n",
    "                             end_date=end_date).pct_change()[1:]"
   ]
  },
  {
   "cell_type": "code",
   "execution_count": 5,
   "metadata": {},
   "outputs": [
    {
     "data": {
      "application/vnd.jupyter.widget-view+json": {
       "model_id": "",
       "version_major": 2,
       "version_minor": 0
      },
      "text/plain": []
     },
     "metadata": {},
     "output_type": "display_data"
    },
    {
     "data": {
      "text/html": [
       "<b>Pipeline Execution Time:</b> 27.72 Seconds"
      ],
      "text/plain": [
       "<IPython.core.display.HTML object>"
      ]
     },
     "metadata": {},
     "output_type": "display_data"
    }
   ],
   "source": [
    "# Function to acquire relevant market data from quantopian API\n",
    "\n",
    "def make_pipeline():\n",
    "    pipe = Pipeline()\n",
    "    \n",
    "    # 36-month historic data\n",
    "    universe = QTradableStocksUS()\n",
    "\n",
    "    # Daily returns on equities\n",
    "    returns = Returns(window_length=2)\n",
    "   \n",
    "    # Fundamentals data\n",
    "    market_cap = Latest([Fundamentals.market_cap])\n",
    "    book_to_price = ( 1 / Latest([Fundamentals.pb_ratio]) )\n",
    "\n",
    "    # Rank and group equities based on market cap and book:price data for use in\n",
    "    # factor mimicking portfolios\n",
    "    bigmcap = market_cap.rank(mask=universe).top(1000)\n",
    "    smallmcap = market_cap.rank(mask=universe).bottom(1000)\n",
    "    \n",
    "    highbpratio = book_to_price.rank(mask=universe).top(1000)\n",
    "    lowbpratio = book_to_price.rank(mask=universe).bottom(1000)\n",
    "    \n",
    "    # Dataframe for first regression\n",
    "    universe = QTradableStocksUS() & (bigmcap | smallmcap | highbpratio | lowbpratio)\n",
    "    \n",
    "    pipe = Pipeline(\n",
    "    columns = {\n",
    "            'market_cap':market_cap,\n",
    "            'bigmcap':bigmcap,\n",
    "            'smallmcap':smallmcap,\n",
    "            'book_to_price':book_to_price,\n",
    "            'highbpratio':highbpratio,\n",
    "            'lowbpratio':lowbpratio,\n",
    "            'returns':returns\n",
    "        },\n",
    "        screen=universe\n",
    "    )\n",
    "    return pipe\n",
    "\n",
    "pipe = make_pipeline()\n",
    "\n",
    "results = run_pipeline(pipe, start_date=start_date, end_date=end_date) "
   ]
  },
  {
   "cell_type": "code",
   "execution_count": 6,
   "metadata": {
    "scrolled": true
   },
   "outputs": [],
   "source": [
    "# Average daily returns of grouped sub-portfolios\n",
    "\n",
    "returns_bigmcap = results[results.bigmcap]['returns'].groupby(level=0).mean()\n",
    "returns_smallmcap = results[results.smallmcap]['returns'].groupby(level=0).mean()\n",
    "\n",
    "returns_highbpratio = results[results.highbpratio]['returns'].groupby(level=0).mean()\n",
    "returns_lowbpratio = results[results.lowbpratio]['returns'].groupby(level=0).mean()\n",
    "\n",
    "# Constructed Fama French factors used for regession\n",
    "EXMKT = market_returns - risk_free_returns \n",
    "BMS = returns_bigmcap - returns_smallmcap  \n",
    "HML = returns_highbpratio - returns_lowbpratio \n",
    "    \n",
    "# Spreading the above factor returns data over all eequities for each day, to\n",
    "# calculate correlations between individual equities and factor returns\n",
    "data = results[['returns']].set_index(results.index)\n",
    "asset_list_sizes = [group[1].size for group in data.groupby(level=0)]\n",
    "\n",
    "EXMKT_column = [[EXMKT.loc[group[0]]]*size if group[0] in EXMKT.index else [None]*size \\\n",
    "    for group, size in zip(data.groupby(level=0), asset_list_sizes)]\n",
    "data['EXMKT'] = list(itertools.chain(*EXMKT_column))\n",
    "\n",
    "BMS_column = [[BMS.loc[group[0]]] * size for group, size \\\n",
    "                in zip(data.groupby(level=0), asset_list_sizes)]\n",
    "data['BMS'] = list(itertools.chain(*BMS_column))\n",
    "\n",
    "HML_column = [[HML.loc[group[0]]] * size for group, size \\\n",
    "                in zip(data.groupby(level=0), asset_list_sizes)]\n",
    "data['HML'] = list(itertools.chain(*HML_column))"
   ]
  },
  {
   "cell_type": "code",
   "execution_count": 7,
   "metadata": {},
   "outputs": [],
   "source": [
    "# 36-month regression\n",
    "\n",
    "# Clean data of NaN's at head and tail of EXMKT column\n",
    "# since returns are calculated by the difference in consecutive daily market open prices\n",
    "data = data.dropna()\n",
    "\n",
    "# Appending column of 1's to data to get an intercept estimate\n",
    "data = sm.add_constant(data)\n",
    "\n",
    "# Gather list of assets from pipeline\n",
    "assets = data.index.levels[1].unique()\n",
    "\n",
    "# Defining variables to put into regression function\n",
    "Y = [data.xs(asset, level=1)['returns'] for asset in assets]\n",
    "X = [data.xs(asset, level=1)[['EXMKT', 'BMS', 'HML', 'const']] for asset in assets]\n",
    "\n",
    "# Regression: estimating betas for hypothesis function...\n",
    "# returns = beta0*const + beta1*EXMKT + beta2*BMS + beta3*HML + residuals\n",
    "reg_results  = [regression.linear_model.OLS(y, x).fit().params \\\n",
    "                for y, x in zip(Y, X) if not(x.empty or y.empty)]\n",
    "indices = [asset for y, x, asset in zip(Y, X, assets) if not(x.empty or y.empty)]\n",
    "\n",
    "betas = pd.DataFrame(reg_results, index=indices)\n",
    "\n",
    "# Constant removed to compensate for mis-specifying asset pricing function\n",
    "del betas['const']\n",
    "\n",
    "# Format betas dataframe to facilitate multiplication later on\n",
    "betas['returns'] = np.ones(len(betas))"
   ]
  },
  {
   "cell_type": "code",
   "execution_count": 8,
   "metadata": {
    "scrolled": true
   },
   "outputs": [
    {
     "data": {
      "application/vnd.jupyter.widget-view+json": {
       "model_id": "",
       "version_major": 2,
       "version_minor": 0
      },
      "text/plain": []
     },
     "metadata": {},
     "output_type": "display_data"
    },
    {
     "data": {
      "text/html": [
       "<b>Pipeline Execution Time:</b> 6.40 Seconds"
      ],
      "text/plain": [
       "<IPython.core.display.HTML object>"
      ]
     },
     "metadata": {},
     "output_type": "display_data"
    }
   ],
   "source": [
    "# Second pipeline to get past year residual returns data\n",
    "start_date = '2018-02-01'\n",
    "end_date = '2019-02-01'\n",
    "\n",
    "# Risk-free market returns proxy (US treasury bill ETF)\n",
    "risk_free_returns = get_pricing('BIL', fields='price', start_date=start_date,\n",
    "                                end_date=end_date).pct_change()[1:]\n",
    "\n",
    "# Overall market returns proxy (S&P 500 ETF)\n",
    "market_returns = get_pricing('SPY', start_date=start_date, end_date=end_date,\n",
    "                             fields='price').pct_change()[1:]\n",
    "\n",
    "def make_pipeline():\n",
    "    pipe = Pipeline()\n",
    "    \n",
    "    universe = QTradableStocksUS()\n",
    "    lookback = 253\n",
    "    \n",
    "    # Get fundamentals and returns data\n",
    "    market_cap = Latest([Fundamentals.market_cap])\n",
    "    book_to_price = Latest([Fundamentals.pb_ratio])\n",
    "    returns = Returns(window_length=2)\n",
    "    \n",
    "    market_cap_rank = market_cap.rank(mask=QTradableStocksUS())\n",
    "    book_to_price_rank = book_to_price.rank(mask=QTradableStocksUS())\n",
    "    \n",
    "    # Group equities\n",
    "    bigmcap = market_cap_rank.top(1000)\n",
    "    smallmcap = market_cap_rank.bottom(1000)\n",
    "    \n",
    "    highbpratio = book_to_price_rank.top(1000)\n",
    "    lowbpratio = book_to_price_rank.bottom(1000)\n",
    "    \n",
    "    universe = QTradableStocksUS() & (bigmcap | smallmcap | highbpratio | lowbpratio )\n",
    "    \n",
    "    pipe = Pipeline(\n",
    "        columns = {\n",
    "            'market cap':market_cap,\n",
    "            'market_cap_rank':market_cap_rank,\n",
    "            'book_to_price':book_to_price,\n",
    "            'book_to_price_rank':book_to_price_rank,\n",
    "            'returns':returns,\n",
    "            'bigmcap':bigmcap,\n",
    "            'smallmcap':smallmcap,\n",
    "            'highbpratio':highbpratio,\n",
    "            'lowbpratio':lowbpratio,\n",
    "        },\n",
    "        screen=universe\n",
    "    )\n",
    "    return pipe\n",
    "\n",
    "pipe = make_pipeline()\n",
    "\n",
    "results = run_pipeline(pipe, start_date, end_date) \n",
    "\n",
    "# Average daily returns of constructed factor sub-portfolios\n",
    "\n",
    "returns_bigmcap = results[results.bigmcap]['returns'].groupby(level=0).mean()\n",
    "returns_smallmcap = results[results.smallmcap]['returns'].groupby(level=0).mean()\n",
    "\n",
    "returns_highbpratio = results[results.highbpratio]['returns'].groupby(level=0).mean()\n",
    "returns_lowbpratio = results[results.lowbpratio]['returns'].groupby(level=0).mean()\n",
    "\n",
    "# Final factors used for Carhart 4-factor model Long/Short portfolio returns\n",
    "EXMKT = market_returns - risk_free_returns\n",
    "BMS = returns_bigmcap - returns_smallmcap\n",
    "HML = returns_highbpratio - returns_lowbpratio\n",
    "\n",
    "# Set of functions that spread the factor L/S portfolios data over all assets for each day\n",
    "data = results[['returns']].set_index(results.index)\n",
    "asset_list_sizes = [group[1].size for group in data.groupby(level=0)]\n",
    "\n",
    "EXMKT_column = [[EXMKT.loc[group[0]]]*size if group[0] in EXMKT.index else [None]*size \\\n",
    "    for group, size in zip(data.groupby(level=0), asset_list_sizes)]\n",
    "\n",
    "data['EXMKT'] = list(itertools.chain(*EXMKT_column))\n",
    "    \n",
    "BMS_column = [[BMS.loc[group[0]]] * size for group, size \\\n",
    "             in zip(data.groupby(level=0), asset_list_sizes)]\n",
    "data['BMS'] = list(itertools.chain(*BMS_column))\n",
    "\n",
    "HML_column = [[HML.loc[group[0]]] * size for group, size \\\n",
    "             in zip(data.groupby(level=0), asset_list_sizes)]\n",
    "data['HML'] = list(itertools.chain(*HML_column))"
   ]
  },
  {
   "cell_type": "code",
   "execution_count": 9,
   "metadata": {},
   "outputs": [],
   "source": [
    "# Momentum factor used is cumulative returns for each equity\n",
    "momentum_results = results.returns.groupby(level=1).cumsum()\n",
    "momentum_results = momentum_results[end_date]"
   ]
  },
  {
   "cell_type": "code",
   "execution_count": 10,
   "metadata": {},
   "outputs": [],
   "source": [
    "# Multiply factor returns dataframe columns by betas\n",
    "# to get residual returns for each asset\n",
    "residual_returns_data = data.multiply(betas, axis=0, level=1)\n",
    "\n",
    "# Finding expected returns by summing residual returns columns\n",
    "residual_returns_data['expected_returns'] = (residual_returns_data['BMS']\n",
    "                                            + residual_returns_data['EXMKT']\n",
    "                                            + residual_returns_data['HML']\n",
    "                                            )\n",
    "\n",
    "residual_returns_data['residual_returns'] = (residual_returns_data['returns']\\\n",
    "                                            - residual_returns_data['expected_returns'])"
   ]
  },
  {
   "cell_type": "code",
   "execution_count": 11,
   "metadata": {
    "scrolled": true
   },
   "outputs": [],
   "source": [
    "# Cumulative sum of residual returns over year for each equity\n",
    "total_residual_returns = residual_returns_data['residual_returns'].groupby(level=1).cumsum(axis=0)\n",
    "\n",
    "# Z-scoring total residual returns to scale the metric for later computation\n",
    "residual_variance = total_residual_returns[end_date].var()\n",
    "residual_returns_mean = total_residual_returns[end_date].mean()\n",
    "res_returns_zscore = ( total_residual_returns[end_date] - residual_returns_mean ) /\\\n",
    "( residual_variance )"
   ]
  },
  {
   "cell_type": "code",
   "execution_count": 13,
   "metadata": {},
   "outputs": [
    {
     "name": "stdout",
     "output_type": "stream",
     "text": [
      "Longs: Equity(15591 [SSRM])    3.209253\n",
      "Equity(40607 [AG])      3.010627\n",
      "Equity(42366 [PVG])     2.915546\n",
      "Equity(15789 [DNR])     2.707219\n",
      "Equity(4664 [SM])       2.686425\n",
      "Equity(25707 [WLL])     2.597349\n",
      "Equity(25714 [AUY])     2.581855\n",
      "Equity(44884 [BTG])     2.551379\n",
      "Equity(24827 [RCII])    2.447493\n",
      "Equity(2621 [VAL])      2.438310\n",
      "Equity(13083 [PAAS])    2.373644\n",
      "Equity(6392 [RDC])      2.319060\n",
      "Equity(27437 [WPM])     2.318351\n",
      "Equity(9189 [KGC])      2.315751\n",
      "Equity(42385 [REGI])    2.262949\n",
      "Equity(22091 [ATTU])    2.226594\n",
      "Equity(9038 [RIG])      2.222293\n",
      "Equity(5607 [OGE])      2.217170\n",
      "Equity(7244 [SWN])      2.211500\n",
      "Equity(34560 [CZZ])     2.201479\n",
      "dtype: float64\n",
      "Shorts: Equity(33949 [FOLD])   -4.211837\n",
      "Equity(42689 [PBYI])   -4.288356\n",
      "Equity(25972 [DVAX])   -4.339967\n",
      "Equity(45430 [FPRX])   -4.345682\n",
      "Equity(45799 [KPTI])   -4.351084\n",
      "Equity(49000 [BPMC])   -4.395700\n",
      "Equity(46053 [ITCI])   -4.408193\n",
      "Equity(48547 [ONCE])   -4.582854\n",
      "Equity(49470 [CTMX])   -4.622977\n",
      "Equity(13984 [TGTX])   -4.799387\n",
      "Equity(36209 [IOVA])   -5.019279\n",
      "Equity(47901 [ATRA])   -5.042360\n",
      "Equity(15752 [ARQL])   -5.067967\n",
      "Equity(43730 [PRTA])   -5.074835\n",
      "Equity(21447 [SGMO])   -5.331435\n",
      "Equity(48997 [VKTX])   -5.683229\n",
      "Equity(49736 [EDIT])   -6.032070\n",
      "Equity(50400 [CRSP])   -6.434855\n",
      "Equity(49934 [NTLA])   -6.546653\n",
      "Equity(23714 [OSTK])   -6.753586\n",
      "dtype: float64\n"
     ]
    }
   ],
   "source": [
    "# Z-scoring past years momentum results to scale the metric\n",
    "momentum_results_zscore = ( momentum_results - momentum_results.mean() )\\\n",
    "/ momentum_results.std()\n",
    "\n",
    "# A basic real number evaluation metric for value. This can be...\n",
    "# altered depending on what style of portfolio you would like to build\n",
    "overall_value_factor = (2 * momentum_results_zscore) - res_returns_zscore\n",
    "\n",
    "OVF_rank = overall_value_factor.sort_values(ascending=False)\n",
    "\n",
    "print 'Longs:', OVF_rank.head(20)\n",
    "print 'Shorts:', OVF_rank.tail(20)"
   ]
  }
 ],
 "metadata": {
  "kernelspec": {
   "display_name": "Python 2",
   "language": "python",
   "name": "python2"
  },
  "language_info": {
   "codemirror_mode": {
    "name": "ipython",
    "version": 2
   },
   "file_extension": ".py",
   "mimetype": "text/x-python",
   "name": "python",
   "nbconvert_exporter": "python",
   "pygments_lexer": "ipython2",
   "version": "2.7.12"
  }
 },
 "nbformat": 4,
 "nbformat_minor": 2
}
